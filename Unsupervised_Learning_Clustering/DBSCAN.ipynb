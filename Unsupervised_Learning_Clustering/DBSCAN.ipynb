{
 "cells": [
  {
   "cell_type": "markdown",
   "metadata": {},
   "source": [
    "# DBSCAN"
   ]
  },
  {
   "cell_type": "code",
   "execution_count": null,
   "metadata": {},
   "outputs": [],
   "source": [
    "import numpy as np\n",
    "import matplotlib.pyplot as plt\n",
    "%matplotlib inline  \n",
    "\n",
    "from sklearn.metrics import silhouette_score\n",
    "from sklearn import cluster, datasets, mixture\n",
    "\n",
    "np.random.seed(844)\n",
    "clust1 = np.random.normal(5, 2, (1000,2))\n",
    "clust2 = np.random.normal(15, 3, (1000,2))\n",
    "clust3 = np.random.multivariate_normal([17,3], [[1,0],[0,1]], 1000)\n",
    "clust4 = np.random.multivariate_normal([2,16], [[1,0],[0,1]], 1000)\n",
    "dataset1 = np.concatenate((clust1, clust2, clust3, clust4))\n",
    "\n",
    "# we take the first array as the second array has the cluster labels\n",
    "dataset2 = datasets.make_circles(n_samples=1000, factor=.5, noise=.05)[0]"
   ]
  },
  {
   "cell_type": "code",
   "execution_count": null,
   "metadata": {},
   "outputs": [],
   "source": [
    "# plot clustering output on the two datasets\n",
    "def plot_two_cluster(df1, df2, color1, color2, title1,  title2):\n",
    "    fig, (ax1,ax2) = plt.subplots(1, 2)\n",
    "    fig.set_size_inches(6*2, 3*2)\n",
    "    ax1.set_title(title1,fontsize=14)\n",
    "    ax1.set_xlim(min(df1[:,0]), max(df1[:,0]))\n",
    "    ax1.set_ylim(min(df1[:,1]), max(df1[:,1]))\n",
    "    ax1.scatter(df1[:, 0], df1[:, 1],s=8,lw=0,c= color1)\n",
    "    \n",
    "    ax2.set_title(title2,fontsize=14)\n",
    "    ax2.set_xlim(min(df2[:,0]), max(df2[:,0]))\n",
    "    ax2.set_ylim(min(df2[:,1]), max(df2[:,1]))\n",
    "    ax2.scatter(df2[:, 0], df2[:, 1],s=8,lw=0,c=color2)\n",
    "    fig.tight_layout()\n",
    "    plt.show()\n",
    "\n",
    "    # plot clustering output on the two datasets\n",
    "def plot_one_cluster(df1, color1, title1):\n",
    "    fig, (ax) = plt.subplots(1, 1)\n",
    "    fig.set_size_inches(6*2, 3*2)\n",
    "    ax.set_title(title1,fontsize=14)\n",
    "    ax.set_xlim(min(df1[:,0]), max(df1[:,0]))\n",
    "    ax.set_ylim(min(df1[:,1]), max(df1[:,1]))\n",
    "    ax.scatter(df1[:, 0], df1[:, 1],s=8,lw=0,c= color1)\n",
    "    fig.tight_layout()\n",
    "    plt.show()\n",
    "    \n",
    "plot_two_cluster(df1=dataset1, df2=dataset2, color1 = 'gray', color2 = 'gray', title1 = 'Dataset 1',  title2 = 'Dataset 2')"
   ]
  },
  {
   "cell_type": "code",
   "execution_count": null,
   "metadata": {
    "scrolled": true
   },
   "outputs": [],
   "source": [
    "# implenting DBSCAN\n",
    "dbscan_dataset1 = cluster.DBSCAN(eps=1, min_samples=5, metric='euclidean').fit_predict(dataset1)\n",
    "dbscan_dataset2 = cluster.DBSCAN(eps=0.1, min_samples=5, metric='euclidean').fit_predict(dataset2)\n",
    "# noise points are assigned -1\n",
    "print('Dataset1:')\n",
    "print(\"Number of Noise Points: \",sum(dbscan_dataset1==-1),\" (\",len(dbscan_dataset1),\")\",sep='')\n",
    "print('Dataset2:')\n",
    "print(\"Number of Noise Points: \",sum(dbscan_dataset2==-1),\" (\",len(dbscan_dataset2),\")\",sep='')\n"
   ]
  },
  {
   "cell_type": "code",
   "execution_count": null,
   "metadata": {},
   "outputs": [],
   "source": [
    "plot_two_cluster(dataset1, dataset2, dbscan_dataset1, dbscan_dataset2, title1 = 'Dataset 1',  title2 = 'Dataset 2')"
   ]
  },
  {
   "cell_type": "markdown",
   "metadata": {},
   "source": [
    "DBSCAN correctly segmented `Dataset2` without knowing number of clusters beforehand. \n",
    "\n",
    "Cons of DBSCAN\n",
    "In rare cases, border points can flip between clusters, depending on the order by which the data is processed, meaning different executions can return different outputs."
   ]
  }
 ],
 "metadata": {
  "anaconda-cloud": {},
  "kernelspec": {
   "display_name": "Python 3",
   "language": "python",
   "name": "python3"
  },
  "language_info": {
   "codemirror_mode": {
    "name": "ipython",
    "version": 3
   },
   "file_extension": ".py",
   "mimetype": "text/x-python",
   "name": "python",
   "nbconvert_exporter": "python",
   "pygments_lexer": "ipython3",
   "version": "3.6.6"
  }
 },
 "nbformat": 4,
 "nbformat_minor": 2
}
